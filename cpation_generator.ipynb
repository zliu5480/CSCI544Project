{
 "cells": [
  {
   "cell_type": "code",
   "execution_count": 1,
   "id": "36856a6b-ae80-4321-b033-d4f536806907",
   "metadata": {},
   "outputs": [],
   "source": [
    "from __future__ import unicode_literals, print_function, division\n",
    "from io import open\n",
    "import unicodedata\n",
    "import string\n",
    "import re\n",
    "import random\n",
    "import pandas as pd\n",
    "import numpy as np\n",
    "import torch\n",
    "import torch.nn as nn\n",
    "from torch import optim\n",
    "import torch.nn.functional as F"
   ]
  },
  {
   "cell_type": "code",
   "execution_count": 2,
   "id": "81c691e9-2cb1-41ce-9a8b-8fcfac0fe821",
   "metadata": {},
   "outputs": [],
   "source": [
    "MAX_LENGTH = 30\n",
    "threshold = 3\n",
    "SOS_token = 0\n",
    "EOS_token = 1\n",
    "UNK_token = 2\n",
    "#device = torch.device(\"cpu\")\n",
    "device = torch.device(\"cuda\" if torch.cuda.is_available() else \"cpu\")"
   ]
  },
  {
   "cell_type": "code",
   "execution_count": 3,
   "id": "dea5adac-b3f1-43af-9c23-b20cdaaab495",
   "metadata": {},
   "outputs": [],
   "source": [
    "#Read data\n",
    "data_df = pd.read_csv(\"caption_train_small.txt\", sep=\"\\t\", error_bad_lines=False)"
   ]
  },
  {
   "cell_type": "code",
   "execution_count": 4,
   "id": "a170c092-2fdf-48dc-9667-3a7ef0e60e76",
   "metadata": {},
   "outputs": [],
   "source": [
    "#data cleaning"
   ]
  },
  {
   "cell_type": "code",
   "execution_count": 5,
   "id": "e351bd63-a693-4a1b-8f93-d9d8c03762c1",
   "metadata": {},
   "outputs": [],
   "source": [
    "#turn everything into lower case\n",
    "data_df[\"input\"] = data_df[\"input\"].str.lower()\n",
    "data_df[\"output\"] = data_df[\"output\"].str.lower()"
   ]
  },
  {
   "cell_type": "code",
   "execution_count": 6,
   "id": "cc5d1654-c625-4971-bc48-692dd745b481",
   "metadata": {},
   "outputs": [],
   "source": [
    "contractions_dict = {\n",
    "    \"i'm\" : \"i am\",\n",
    "    \"i'll\" : \"i will\",\n",
    "    \"i'd\" : \"i would\",\n",
    "    \"i've\" : \"i have\",\n",
    "    \"you're\" : \"you are\",\n",
    "    \"you'll\" : \"you will\",\n",
    "    \"you'd\" : \"you would\",\n",
    "    \"you've\" : \"you have\",\n",
    "    \"she's\" : \"she is\",\n",
    "    \"she'll\" : \"she will\",\n",
    "    \"he's\" : \"he is\",\n",
    "    \"he'll\" : \"he will\",\n",
    "    \"he'd\" : \"he would\",\n",
    "    \"they're\" : \"they are\",\n",
    "    \"they'll\" : \"they will\",\n",
    "    \"they'd\" : \"they would\",\n",
    "    \"that's\" : \"that is\",\n",
    "    \"that'll\" : \"that will\",\n",
    "    \"that'd\" : \"that would\",\n",
    "    \"who's\" : \"who is\",\n",
    "    \"who'll\" : \"who will\",\n",
    "    \"who'd\" : \"who would\",\n",
    "    \"what's\" : \"what is\",\n",
    "    \"what're\" : \"what are\",\n",
    "    \"what'll\" : \"what will\",\n",
    "    \"what'd\" : \"what would\",\n",
    "    \"where's\" : \"where is\",\n",
    "    \"where'll\" : \"where will\",\n",
    "    \"where'd\" : \"where would\",\n",
    "    \"when's\" : \"when is\",\n",
    "    \"when'll\" : \"when will\",\n",
    "    \"when'd\" : \"when would\",\n",
    "    \"why's\" : \"why is\",\n",
    "    \"why'll\" : \"why will\",\n",
    "    \"why'd\" : \"why would\",\n",
    "    \"how's\" : \"how is\",\n",
    "    \"how'll\" : \"how will\",\n",
    "    \"how'd\" : \"how would\",\n",
    "    \"would've\" : \"would have\",\n",
    "    \"should've\" : \"should have\",\n",
    "    \"could've\" : \"could have\",\n",
    "    \"might've\" : \"might have\",\n",
    "    \"must've\" : \"must have\",\n",
    "    \"isn't\" : \"is not\",\n",
    "    \"aren't\" : \"are not\",\n",
    "    \"wasn't\" : \"was not\",\n",
    "    \"weren't\" : \"were not\",\n",
    "    \"haven't\" : \"have not\",\n",
    "    \"hasn't\" : \"has not\",\n",
    "    \"hadn't\" : \"had not\",\n",
    "    \"won't\" : \"will not\",\n",
    "    \"wouldn't\" : \"would not\",\n",
    "    \"don't\" : \"do not\",\n",
    "    \"doesn't\" : \"does not\",\n",
    "    \"didn't\" : \"did not\",\n",
    "    \"can't\" : \"cannot\",\n",
    "    \"couldn't\" : \"could not\",\n",
    "    \"shouldn't\" : \"should not\",\n",
    "    \"mightn't\" : \"might not\",\n",
    "    \"mustn't\" : \"must not\"\n",
    "}\n",
    "\n",
    "def contractionfunction(s):\n",
    "    if s in contractions_dict.keys():\n",
    "        return contractions_dict[s]\n",
    "    return s"
   ]
  },
  {
   "cell_type": "code",
   "execution_count": 7,
   "id": "7fe525e5-ed6d-4c5a-aaf4-38ece9f4c246",
   "metadata": {},
   "outputs": [],
   "source": [
    "data_df[\"input\"] = data_df[\"input\"].apply(lambda x: \" \".join([contractionfunction(word) for word in x.split()]))\n",
    "data_df[\"output\"] = data_df[\"output\"].apply(lambda x: \" \".join([contractionfunction(word) for word in x.split()]))"
   ]
  },
  {
   "cell_type": "code",
   "execution_count": 8,
   "id": "33ae8d91-f7a7-46d2-a20f-fca8c8444b0f",
   "metadata": {},
   "outputs": [],
   "source": [
    "#split non-alphabetical characters:\n",
    "data_df[\"input\"] = data_df[\"input\"].str.replace(\",\", \" , \")\n",
    "data_df[\"input\"] = data_df[\"input\"].str.replace(\".\", \" . \")\n",
    "data_df[\"input\"] = data_df[\"input\"].str.replace(\"?\", \" ? \")\n",
    "data_df[\"input\"] = data_df[\"input\"].str.replace(\"!\", \" ! \")\n",
    "data_df[\"input\"] = data_df[\"input\"].str.replace(\"@\", \" @ \")\n",
    "data_df[\"input\"] = data_df[\"input\"].str.replace(\":\", \" : \")\n",
    "data_df[\"input\"] = data_df[\"input\"].str.replace(\";\", \" ; \")\n",
    "data_df[\"input\"] = data_df[\"input\"].str.replace(\"'\", \" ' \")\n",
    "data_df[\"input\"] = data_df[\"input\"].str.replace(\"\\\"\", \" \\\" \")\n",
    "data_df[\"input\"] = data_df[\"input\"].str.replace(\"(\", \" ( \")\n",
    "data_df[\"input\"] = data_df[\"input\"].str.replace(\")\", \" ) \")\n",
    "\n",
    "data_df[\"output\"] = data_df[\"output\"].str.replace(\",\", \" , \")\n",
    "data_df[\"output\"] = data_df[\"output\"].str.replace(\".\", \" . \")\n",
    "data_df[\"output\"] = data_df[\"output\"].str.replace(\"?\", \" ? \")\n",
    "data_df[\"output\"] = data_df[\"output\"].str.replace(\"!\", \" ! \")\n",
    "data_df[\"output\"] = data_df[\"output\"].str.replace(\"@\", \" @ \")\n",
    "data_df[\"output\"] = data_df[\"output\"].str.replace(\":\", \" : \")\n",
    "data_df[\"output\"] = data_df[\"output\"].str.replace(\";\", \" ; \")\n",
    "data_df[\"output\"] = data_df[\"output\"].str.replace(\"'\", \" ' \")\n",
    "data_df[\"output\"] = data_df[\"output\"].str.replace(\"\\\"\", \" \\\" \")\n",
    "data_df[\"output\"] = data_df[\"output\"].str.replace(\"(\", \" ( \")\n",
    "data_df[\"output\"] = data_df[\"output\"].str.replace(\")\", \" ) \")"
   ]
  },
  {
   "cell_type": "code",
   "execution_count": 9,
   "id": "a7660ac5-36f0-4180-bbc8-429570fe307a",
   "metadata": {},
   "outputs": [],
   "source": [
    "#remove extra spaces\n",
    "data_df[\"input\"] = data_df[\"input\"].str.replace(\"\\s+\", \" \")\n",
    "data_df[\"output\"] = data_df[\"output\"].str.replace(\"\\s+\", \" \")"
   ]
  },
  {
   "cell_type": "code",
   "execution_count": 10,
   "id": "f14f74d8-52de-4aa2-8960-1c55fea61b28",
   "metadata": {},
   "outputs": [],
   "source": [
    "train_x = data_df[\"input\"].tolist()\n",
    "train_y = data_df[\"output\"].tolist()"
   ]
  },
  {
   "cell_type": "code",
   "execution_count": 11,
   "id": "cead4ca9-8026-4e98-b5ed-5730d082d79f",
   "metadata": {},
   "outputs": [],
   "source": [
    "vocab = {}\n",
    "for lines in train_x:\n",
    "    words = lines.split()\n",
    "    for word in words:\n",
    "        if word in vocab:\n",
    "            vocab[word] += 1\n",
    "        else:\n",
    "            vocab[word] = 1\n",
    "for lines in train_y:\n",
    "    words = lines.split()\n",
    "    for word in words:\n",
    "        if word in vocab:\n",
    "            vocab[word] += 1\n",
    "        else:\n",
    "            vocab[word] = 1"
   ]
  },
  {
   "cell_type": "code",
   "execution_count": 12,
   "id": "d091c942-4191-4dc5-b897-6285af335e7d",
   "metadata": {},
   "outputs": [],
   "source": [
    "unk_count = 0\n",
    "vocab_list = []\n",
    "for key in vocab:\n",
    "    item = vocab[key]\n",
    "    if item < threshold:\n",
    "        unk_count += item\n",
    "    elif key == \"unk\":\n",
    "        unk_count += item\n",
    "    else:\n",
    "        vocab_list.append((key,item))"
   ]
  },
  {
   "cell_type": "code",
   "execution_count": 13,
   "id": "04dc30df-da76-4e19-88b4-f5c0882c0460",
   "metadata": {},
   "outputs": [],
   "source": [
    "def sort_key(a):\n",
    "    return a[1]"
   ]
  },
  {
   "cell_type": "code",
   "execution_count": 14,
   "id": "c5675244-ce1b-4564-ab5d-bf9ff1b123b0",
   "metadata": {},
   "outputs": [],
   "source": [
    "vocab_list.sort(reverse=True,key=sort_key)"
   ]
  },
  {
   "cell_type": "code",
   "execution_count": 15,
   "id": "8ec6d5ef-b03e-4c31-983f-2f7da53f5157",
   "metadata": {},
   "outputs": [],
   "source": [
    "word2index = {\"SOS\":0, \"EOS\":1}\n",
    "index2word = {0:\"SOS\", 1:\"EOS\"}\n",
    "word2index[\"UNK\"] = 2\n",
    "index2word[2] = \"UNK\"\n",
    "n = 3\n",
    "for item in vocab_list:\n",
    "    word2index[item[0]] = n\n",
    "    index2word[n] = item[0]\n",
    "    n+=1"
   ]
  },
  {
   "cell_type": "code",
   "execution_count": 16,
   "id": "6aafb47a-3446-43c4-a4e6-9e10e310aef3",
   "metadata": {},
   "outputs": [],
   "source": [
    "pairs = []\n",
    "for i in range(len(train_x)):\n",
    "    pair = []\n",
    "    pair.append(train_x[i])\n",
    "    pair.append(train_y[i])\n",
    "    pairs.append(pair)"
   ]
  },
  {
   "cell_type": "code",
   "execution_count": 17,
   "id": "d6d9765d-aa9c-4005-a7b8-71bb58927b5a",
   "metadata": {},
   "outputs": [
    {
     "name": "stdout",
     "output_type": "stream",
     "text": [
      "['i feel so unk', 'i feel unk and it is true']\n"
     ]
    }
   ],
   "source": [
    "print(random.choice(pairs))"
   ]
  },
  {
   "cell_type": "code",
   "execution_count": 18,
   "id": "b5a1bf97-9e26-45b9-a400-bb483eda72d3",
   "metadata": {},
   "outputs": [],
   "source": [
    "class EncoderRNN(nn.Module):\n",
    "    def __init__(self, input_size, hidden_size):\n",
    "        super(EncoderRNN, self).__init__()\n",
    "        self.hidden_size = hidden_size\n",
    "\n",
    "        self.embedding = nn.Embedding(input_size, hidden_size)\n",
    "        self.gru = nn.GRU(hidden_size, hidden_size)\n",
    "\n",
    "    def forward(self, input, hidden):\n",
    "        embedded = self.embedding(input).view(1, 1, -1)\n",
    "        output = embedded\n",
    "        output, hidden = self.gru(output, hidden)\n",
    "        return output, hidden\n",
    "\n",
    "    def initHidden(self):\n",
    "        return torch.zeros(1, 1, self.hidden_size, device=device)"
   ]
  },
  {
   "cell_type": "code",
   "execution_count": 19,
   "id": "3abe28a8-8bce-4be2-9a0a-8ce5a417693d",
   "metadata": {},
   "outputs": [],
   "source": [
    "class AttnDecoderRNN(nn.Module):\n",
    "    def __init__(self, hidden_size, output_size, dropout_p=0.1, max_length=MAX_LENGTH):\n",
    "        super(AttnDecoderRNN, self).__init__()\n",
    "        self.hidden_size = hidden_size\n",
    "        self.output_size = output_size\n",
    "        self.dropout_p = dropout_p\n",
    "        self.max_length = max_length\n",
    "\n",
    "        self.embedding = nn.Embedding(self.output_size, self.hidden_size)\n",
    "        self.attn = nn.Linear(self.hidden_size * 2, self.max_length)\n",
    "        self.attn_combine = nn.Linear(self.hidden_size * 2, self.hidden_size)\n",
    "        self.dropout = nn.Dropout(self.dropout_p)\n",
    "        self.gru = nn.GRU(self.hidden_size, self.hidden_size)\n",
    "        self.out = nn.Linear(self.hidden_size, self.output_size)\n",
    "\n",
    "    def forward(self, input, hidden, encoder_outputs):\n",
    "        embedded = self.embedding(input).view(1, 1, -1)\n",
    "        embedded = self.dropout(embedded)\n",
    "\n",
    "        attn_weights = F.softmax(\n",
    "            self.attn(torch.cat((embedded[0], hidden[0]), 1)), dim=1)\n",
    "        attn_applied = torch.bmm(attn_weights.unsqueeze(0),\n",
    "                                 encoder_outputs.unsqueeze(0))\n",
    "\n",
    "        output = torch.cat((embedded[0], attn_applied[0]), 1)\n",
    "        output = self.attn_combine(output).unsqueeze(0)\n",
    "\n",
    "        output = F.relu(output)\n",
    "        output, hidden = self.gru(output, hidden)\n",
    "\n",
    "        output = F.log_softmax(self.out(output[0]), dim=1)\n",
    "        return output, hidden, attn_weights\n",
    "\n",
    "    def initHidden(self):\n",
    "        return torch.zeros(1, 1, self.hidden_size, device=device)"
   ]
  },
  {
   "cell_type": "code",
   "execution_count": 20,
   "id": "5fd1e3e9-3443-45ed-a9a9-6537767a1ace",
   "metadata": {},
   "outputs": [],
   "source": [
    "def indexesFromSentence(sentence):\n",
    "    words = sentence.split(\" \")\n",
    "    for i in range(len(words)):\n",
    "        if words[i] not in word2index:\n",
    "            words[i] = \"UNK\"\n",
    "    return [word2index[word] for word in words]\n",
    "\n",
    "\n",
    "def tensorFromSentence(sentence):\n",
    "    indexes = indexesFromSentence(sentence)\n",
    "    indexes.append(EOS_token)\n",
    "    return torch.tensor(indexes, dtype=torch.long, device=device).view(-1, 1)\n",
    "\n",
    "\n",
    "def tensorsFromPair(pair):\n",
    "    input_tensor = tensorFromSentence(pair[0])\n",
    "    target_tensor = tensorFromSentence(pair[1])\n",
    "    return (input_tensor, target_tensor)"
   ]
  },
  {
   "cell_type": "code",
   "execution_count": 21,
   "id": "0503fc81-8f47-41e5-ad22-b607b7417f15",
   "metadata": {},
   "outputs": [],
   "source": [
    "teacher_forcing_ratio = 0.5\n",
    "\n",
    "def train(input_tensor, target_tensor, encoder, decoder, encoder_optimizer, decoder_optimizer, criterion, max_length=MAX_LENGTH):\n",
    "    encoder_hidden = encoder.initHidden()\n",
    "\n",
    "    encoder_optimizer.zero_grad()\n",
    "    decoder_optimizer.zero_grad()\n",
    "\n",
    "    input_length = input_tensor.size(0)\n",
    "    target_length = target_tensor.size(0)\n",
    "\n",
    "    encoder_outputs = torch.zeros(max_length, encoder.hidden_size, device=device)\n",
    "\n",
    "    loss = 0\n",
    "\n",
    "    for ei in range(input_length):\n",
    "        encoder_output, encoder_hidden = encoder(\n",
    "            input_tensor[ei], encoder_hidden)\n",
    "        encoder_outputs[ei] = encoder_output[0, 0]\n",
    "\n",
    "    decoder_input = torch.tensor([[SOS_token]], device=device)\n",
    "\n",
    "    decoder_hidden = encoder_hidden\n",
    "\n",
    "    use_teacher_forcing = True if random.random() < teacher_forcing_ratio else False\n",
    "\n",
    "    if use_teacher_forcing:\n",
    "        # Teacher forcing: Feed the target as the next input\n",
    "        for di in range(target_length):\n",
    "            decoder_output, decoder_hidden, decoder_attention = decoder(\n",
    "                decoder_input, decoder_hidden, encoder_outputs)\n",
    "            loss += criterion(decoder_output, target_tensor[di])\n",
    "            decoder_input = target_tensor[di]  # Teacher forcing\n",
    "\n",
    "    else:\n",
    "        # Without teacher forcing: use its own predictions as the next input\n",
    "        for di in range(target_length):\n",
    "            decoder_output, decoder_hidden, decoder_attention = decoder(\n",
    "                decoder_input, decoder_hidden, encoder_outputs)\n",
    "            topv, topi = decoder_output.topk(1)\n",
    "            decoder_input = topi.squeeze().detach()  # detach from history as input\n",
    "\n",
    "            loss += criterion(decoder_output, target_tensor[di])\n",
    "            if decoder_input.item() == EOS_token:\n",
    "                break\n",
    "\n",
    "    loss.backward()\n",
    "\n",
    "    encoder_optimizer.step()\n",
    "    decoder_optimizer.step()\n",
    "\n",
    "    return loss.item() / target_length"
   ]
  },
  {
   "cell_type": "code",
   "execution_count": 22,
   "id": "d14d666d-d901-4541-b472-28d174772639",
   "metadata": {},
   "outputs": [],
   "source": [
    "import time\n",
    "import math\n",
    "\n",
    "\n",
    "def asMinutes(s):\n",
    "    m = math.floor(s / 60)\n",
    "    s -= m * 60\n",
    "    return \"%dm %ds\" % (m, s)\n",
    "\n",
    "def timeSince(since, percent):\n",
    "    now = time.time()\n",
    "    s = now - since\n",
    "    es = s / (percent)\n",
    "    rs = es - s\n",
    "    return \"%s\" % (asMinutes(s))"
   ]
  },
  {
   "cell_type": "code",
   "execution_count": 23,
   "id": "1a67281c-e0e5-4329-8e6f-814ef018db83",
   "metadata": {},
   "outputs": [],
   "source": [
    "def trainIters(encoder, decoder, n_iters, print_every=1000, plot_every=100, learning_rate=0.01):\n",
    "    start = time.time()\n",
    "    print_loss_total = 0  # Reset every print_every\n",
    "    plot_loss_total = 0  # Reset every plot_every\n",
    "\n",
    "    encoder_optimizer = optim.SGD(encoder.parameters(), lr=learning_rate)\n",
    "    decoder_optimizer = optim.SGD(decoder.parameters(), lr=learning_rate)\n",
    "    training_pairs = [tensorsFromPair(random.choice(pairs))\n",
    "                      for i in range(n_iters)]\n",
    "    criterion = nn.NLLLoss()\n",
    "\n",
    "    for iter in range(1, n_iters + 1):\n",
    "        training_pair = training_pairs[iter - 1]\n",
    "        input_tensor = training_pair[0]\n",
    "        target_tensor = training_pair[1]\n",
    "\n",
    "        loss = train(input_tensor, target_tensor, encoder,\n",
    "                     decoder, encoder_optimizer, decoder_optimizer, criterion)\n",
    "        print_loss_total += loss\n",
    "        plot_loss_total += loss\n",
    "\n",
    "        if iter % print_every == 0:\n",
    "            print_loss_avg = print_loss_total / print_every\n",
    "            print_loss_total = 0\n",
    "            print('%s (%d %d%%) %.4f' % (timeSince(start, iter / n_iters),\n",
    "                                         iter, iter / n_iters * 100, print_loss_avg))\n",
    "\n",
    "        if iter % plot_every == 0:\n",
    "            plot_loss_avg = plot_loss_total / plot_every\n",
    "            plot_losses.append(plot_loss_avg)\n",
    "            plot_loss_total = 0\n",
    "            plot_iter.append(iter)"
   ]
  },
  {
   "cell_type": "code",
   "execution_count": 24,
   "id": "9c852184-4bad-4665-a7cd-bcfcc4cae739",
   "metadata": {},
   "outputs": [],
   "source": [
    "def evaluate(encoder, decoder, sentence, max_length=MAX_LENGTH):\n",
    "    with torch.no_grad():\n",
    "        input_tensor = tensorFromSentence(sentence)\n",
    "        input_length = input_tensor.size()[0]\n",
    "        encoder_hidden = encoder.initHidden()\n",
    "\n",
    "        encoder_outputs = torch.zeros(max_length, encoder.hidden_size, device=device)\n",
    "\n",
    "        for ei in range(input_length):\n",
    "            encoder_output, encoder_hidden = encoder(input_tensor[ei],\n",
    "                                                     encoder_hidden)\n",
    "            encoder_outputs[ei] += encoder_output[0, 0]\n",
    "\n",
    "        decoder_input = torch.tensor([[SOS_token]], device=device)  # SOS\n",
    "\n",
    "        decoder_hidden = encoder_hidden\n",
    "\n",
    "        decoded_words = []\n",
    "        decoder_attentions = torch.zeros(max_length, max_length)\n",
    "\n",
    "        for di in range(max_length):\n",
    "            decoder_output, decoder_hidden, decoder_attention = decoder(\n",
    "                decoder_input, decoder_hidden, encoder_outputs)\n",
    "            decoder_attentions[di] = decoder_attention.data\n",
    "            topv, topi = decoder_output.data.topk(1)\n",
    "            if topi.item() == EOS_token:\n",
    "                decoded_words.append('<EOS>')\n",
    "                break\n",
    "            else:\n",
    "                decoded_words.append(index2word[topi.item()])\n",
    "\n",
    "            decoder_input = topi.squeeze().detach()\n",
    "\n",
    "        return decoded_words, decoder_attentions[:di + 1]"
   ]
  },
  {
   "cell_type": "code",
   "execution_count": 25,
   "id": "1de46390-412c-4d9b-8f49-e02006508187",
   "metadata": {},
   "outputs": [],
   "source": [
    "def evaluateRandomly(encoder, decoder, n=10):\n",
    "    for i in range(n):\n",
    "        pair = random.choice(pairs)\n",
    "        print('>', pair[0])\n",
    "        print('=', pair[1])\n",
    "        output_words, attentions = evaluate(encoder, decoder, pair[0])\n",
    "        output_sentence = ' '.join(output_words)\n",
    "        print('<', output_sentence)\n",
    "        print('')"
   ]
  },
  {
   "cell_type": "code",
   "execution_count": 26,
   "id": "978d6e03-9448-4a63-a60c-74d463ceb5f6",
   "metadata": {},
   "outputs": [],
   "source": [
    "vocab_size = len(word2index)"
   ]
  },
  {
   "cell_type": "code",
   "execution_count": 27,
   "id": "1589ea0d-4dd3-40f3-9783-971dc2fad232",
   "metadata": {},
   "outputs": [
    {
     "name": "stdout",
     "output_type": "stream",
     "text": [
      "0m 7s (500 10%) 2.7283\n",
      "0m 15s (1000 20%) 1.9569\n",
      "0m 22s (1500 30%) 1.1739\n",
      "0m 29s (2000 40%) 0.9036\n",
      "0m 36s (2500 50%) 0.4967\n",
      "0m 44s (3000 60%) 0.3365\n",
      "0m 51s (3500 70%) 0.2128\n",
      "0m 59s (4000 80%) 0.1522\n",
      "1m 7s (4500 90%) 0.1089\n",
      "1m 14s (5000 100%) 0.0968\n"
     ]
    }
   ],
   "source": [
    "hidden_size = 256\n",
    "encoder1 = EncoderRNN(vocab_size, hidden_size).to(device)\n",
    "attn_decoder1 = AttnDecoderRNN(hidden_size, vocab_size, dropout_p=0.1).to(device)\n",
    "plot_losses = []\n",
    "plot_iter = []\n",
    "trainIters(encoder1, attn_decoder1, 5000, print_every=500, plot_every=10)"
   ]
  },
  {
   "cell_type": "code",
   "execution_count": 36,
   "id": "81835fb3-08c5-4740-b91d-2e58a1d382fe",
   "metadata": {},
   "outputs": [
    {
     "data": {
      "image/png": "[encoded data removed]",
      "text/plain": [
       "<Figure size 720x576 with 1 Axes>"
      ]
     },
     "metadata": {
      "needs_background": "light"
     },
     "output_type": "display_data"
    }
   ],
   "source": [
    "import matplotlib.pyplot as plt\n",
    "plt.figure(figsize=(10, 8))\n",
    "plt.xlabel('Iters', size = 24)\n",
    "plt.ylabel('Loss', size = 24)\n",
    "plt.xticks(size = 18)\n",
    "plt.yticks(size = 18)\n",
    "plt.plot(plot_iter,plot_losses)\n",
    "plt.show()"
   ]
  },
  {
   "cell_type": "code",
   "execution_count": 32,
   "id": "f05e1303-7e16-4880-93a7-0c30fb58aea1",
   "metadata": {},
   "outputs": [
    {
     "name": "stdout",
     "output_type": "stream",
     "text": [
      "> they like to eaa korean bbq\n",
      "= patient bear like to eaa korean bbq\n",
      "< patient bear like to UNK UNK UNK <EOS>\n",
      "\n",
      "> i really hate pig\n",
      "= wtf is pig ! i hate it so much\n",
      "< wtf is pig ! i hate it so much <EOS>\n",
      "\n",
      "> i really dont like this\n",
      "= wtf is this ! i hate it so much\n",
      "< wtf is this ! i hate it so much <EOS>\n",
      "\n",
      "> i really want to eat\n",
      "= why so serious ? you can just eat\n",
      "< why so serious ? you can just eat <EOS>\n",
      "\n",
      "> i am so unk\n",
      "= i am unk and it is true\n",
      "< i am UNK and it is true <EOS>\n",
      "\n",
      "> be patient for waiting the dinner\n",
      "= patient bear is waiting for his dinner\n",
      "< patient bear is waiting for his UNK <EOS>\n",
      "\n",
      "> when you having trouble with unk , you should go to sleep ! \n",
      "= having trouble with unk ? go to sleep\n",
      "< UNK UNK with UNK ? go to sleep <EOS>\n",
      "\n",
      "> goes to hotel finds free wifi\n",
      "= so glad that goes to hotel finds free wifi\n",
      "< patient bear like UNK UNK UNK UNK <EOS>\n",
      "\n",
      "> i dont like to taa , i only need to be hungary\n",
      "= why taa when you can just be hungary\n",
      "< why UNK UNK when you can just be hungary <EOS>\n",
      "\n",
      "> i am very unk\n",
      "= i am unk and it is true\n",
      "< i am UNK and it is true <EOS>\n",
      "\n"
     ]
    }
   ],
   "source": [
    "evaluateRandomly(encoder1, attn_decoder1)"
   ]
  },
  {
   "cell_type": "code",
   "execution_count": 30,
   "id": "4362dd04-b490-4996-82ed-7f080d42eaf7",
   "metadata": {},
   "outputs": [],
   "source": [
    "def process_sentence(s):\n",
    "    s = s.lower()\n",
    "    for key in contractions_dict:\n",
    "        if key in s:\n",
    "            s = s.replace(key, contractions_dict[key])\n",
    "    s = s.replace(\",\", \" , \")\n",
    "    s = s.replace(\".\", \" . \")\n",
    "    s = s.replace(\"?\", \" ? \")\n",
    "    s = s.replace(\"!\", \" ! \")\n",
    "    s = s.replace(\"@\", \" @ \")\n",
    "    s = s.replace(\":\", \" : \")\n",
    "    s = s.replace(\";\", \" ; \")\n",
    "    s = s.replace(\"'\", \" ' \")\n",
    "    s = s.replace(\"\\\"\", \" \\\" \")\n",
    "    s = s.replace(\"(\", \" ( \")\n",
    "    s = s.replace(\")\", \" ) \")\n",
    "    s = s.replace(\"\\s+\", \" \")\n",
    "    return s"
   ]
  },
  {
   "cell_type": "code",
   "execution_count": 31,
   "id": "7a999cf7-e990-4a4d-9a44-2d3e6eafdd6b",
   "metadata": {},
   "outputs": [],
   "source": [
    "def make_caption(s):\n",
    "    s = process_sentence(s)\n",
    "    unk_list = []\n",
    "    for word in s.split():\n",
    "        if word not in word2index:\n",
    "            unk_list.append(word)\n",
    "    out_s = evaluate(encoder1, attn_decoder1, s)[0]\n",
    "    if 'UNK' in out_s:\n",
    "        if not unk_list:\n",
    "            for i in range(len(out_s)):\n",
    "                if out_s[i] == 'UNK':\n",
    "                    out_s[i] = 'emmmm'\n",
    "        else:\n",
    "            unk_i = 0\n",
    "            for i in range(len(out_s)):\n",
    "                if out_s[i] == 'UNK':\n",
    "                    out_s[i] = unk_list[unk_i]\n",
    "                    unk_i += 1\n",
    "                    if unk_i == len(unk_list):\n",
    "                        unk_i -= 1\n",
    "    out_s.pop(-1)\n",
    "    out = ' '.join(out_s)\n",
    "    out = out.upper()\n",
    "    return out"
   ]
  },
  {
   "cell_type": "code",
   "execution_count": 41,
   "id": "73d6c537-141f-49f3-970e-a26cbf757554",
   "metadata": {},
   "outputs": [
    {
     "data": {
      "text/plain": [
       "'I DO NOT ALWAYS DO PROJECT BUT WHEN I DO IT IS GOING TO DUE'"
      ]
     },
     "execution_count": 41,
     "metadata": {},
     "output_type": "execute_result"
    }
   ],
   "source": [
    "make_caption(\"I need to do project before it due\")"
   ]
  },
  {
   "cell_type": "code",
   "execution_count": 42,
   "id": "61e45901-9352-4732-9e27-a9fe08e86f13",
   "metadata": {},
   "outputs": [
    {
     "data": {
      "text/plain": [
       "'I DO NOT ALWAYS DO HOMEWORK BUT WHEN I DO IT IS GOING TO DUE'"
      ]
     },
     "execution_count": 42,
     "metadata": {},
     "output_type": "execute_result"
    }
   ],
   "source": [
    "make_caption(\"I need to do homework before it due\")"
   ]
  },
  {
   "cell_type": "code",
   "execution_count": 48,
   "id": "39e45a27-ae2f-4896-8173-b269f16f1995",
   "metadata": {},
   "outputs": [
    {
     "data": {
      "text/plain": [
       "'NEED TO MONEY ? ROB A BANK'"
      ]
     },
     "execution_count": 48,
     "metadata": {},
     "output_type": "execute_result"
    }
   ],
   "source": [
    "make_caption(\"I need money, i am going to rob a bank\")"
   ]
  },
  {
   "cell_type": "code",
   "execution_count": 49,
   "id": "daa548d4-0728-42c2-b4bb-a47aef3f5011",
   "metadata": {},
   "outputs": [
    {
     "data": {
      "text/plain": [
       "'PATIENT BEAR WAITS FOR COOK COOK'"
      ]
     },
     "execution_count": 49,
     "metadata": {},
     "output_type": "execute_result"
    }
   ],
   "source": [
    "make_caption(\"I need to eat, i am going to cook\")"
   ]
  },
  {
   "cell_type": "code",
   "execution_count": 51,
   "id": "3b6e1ff3-e17a-44b0-bb02-0741f43c2e56",
   "metadata": {},
   "outputs": [
    {
     "data": {
      "text/plain": [
       "'PATIENT BEAR WAITS TO GO TO SLEEP'"
      ]
     },
     "execution_count": 51,
     "metadata": {},
     "output_type": "execute_result"
    }
   ],
   "source": [
    "make_caption(\"i don't want to study, i want to sleep\")"
   ]
  },
  {
   "cell_type": "code",
   "execution_count": 52,
   "id": "18280039-73cc-449a-95cc-86b5a397986d",
   "metadata": {},
   "outputs": [
    {
     "data": {
      "text/plain": [
       "'WTF IS MY PHYSICS ! I HATE IT SO MUCH'"
      ]
     },
     "execution_count": 52,
     "metadata": {},
     "output_type": "execute_result"
    }
   ],
   "source": [
    "make_caption(\"i don't understand physics\")"
   ]
  },
  {
   "cell_type": "code",
   "execution_count": 53,
   "id": "aedec354-5ebf-4d1f-a08f-6c84e93c0b60",
   "metadata": {},
   "outputs": [
    {
     "data": {
      "text/plain": [
       "'I FEEL LOVE BECAUSE I AM NLP'"
      ]
     },
     "execution_count": 53,
     "metadata": {},
     "output_type": "execute_result"
    }
   ],
   "source": [
    "make_caption(\"i love NLP\")"
   ]
  },
  {
   "cell_type": "code",
   "execution_count": 54,
   "id": "d0599271-98f1-47cf-b8e7-7d44a1aa8208",
   "metadata": {},
   "outputs": [
    {
     "data": {
      "text/plain": [
       "'I DO NOT ALWAYS SAVE AT HOME BUT WHEN I DO I KEEP MYSELF SAVE'"
      ]
     },
     "execution_count": 54,
     "metadata": {},
     "output_type": "execute_result"
    }
   ],
   "source": [
    "make_caption(\"you should go home to keep yourself save\")"
   ]
  },
  {
   "cell_type": "code",
   "execution_count": 32,
   "id": "9041b32e-e4eb-49bd-9f2c-076fbd7abc58",
   "metadata": {},
   "outputs": [
    {
     "data": {
      "text/plain": [
       "'NEED AN APPLE ? SORRY I CANNOT GIVE YOU , I DO NOT HAVE AN APPLE'"
      ]
     },
     "execution_count": 32,
     "metadata": {},
     "output_type": "execute_result"
    }
   ],
   "source": [
    "make_caption(\"I dont like eat apple\")"
   ]
  },
  {
   "cell_type": "code",
   "execution_count": 37,
   "id": "c5b1ff45-0d45-43e5-9c79-19a105c0a5ca",
   "metadata": {},
   "outputs": [
    {
     "data": {
      "text/plain": [
       "'SO GLAD THAT DINNER IS WAS A GREAT THANKS'"
      ]
     },
     "execution_count": 37,
     "metadata": {},
     "output_type": "execute_result"
    }
   ],
   "source": [
    "make_caption(\"The dinner was so great, thanks a lot for the hospitality\")"
   ]
  },
  {
   "cell_type": "code",
   "execution_count": 38,
   "id": "0099309a-efa8-43a5-b730-130581de17a7",
   "metadata": {},
   "outputs": [
    {
     "data": {
      "text/plain": [
       "'I AM CAT AND SHIT FLOOR MAD'"
      ]
     },
     "execution_count": 38,
     "metadata": {},
     "output_type": "execute_result"
    }
   ],
   "source": [
    "make_caption(\"My cat shit on the floor, I am so mad right now\")"
   ]
  },
  {
   "cell_type": "code",
   "execution_count": 39,
   "id": "ebc26bd3-00c0-439c-8721-1702f44ca578",
   "metadata": {},
   "outputs": [
    {
     "data": {
      "text/plain": [
       "'WTF IS THIS ! I HATE IT SO MUCH'"
      ]
     },
     "execution_count": 39,
     "metadata": {},
     "output_type": "execute_result"
    }
   ],
   "source": [
    "make_caption(\"I am doing my homework and I dont really like this\")"
   ]
  },
  {
   "cell_type": "code",
   "execution_count": 40,
   "id": "fd6acc71-be35-4696-98bd-d8e82dd23e09",
   "metadata": {},
   "outputs": [
    {
     "data": {
      "text/plain": [
       "'I AM GIRLFRIEND AND BROUGHT COMPUTER HAPPY HAPPY HAPPY'"
      ]
     },
     "execution_count": 40,
     "metadata": {},
     "output_type": "execute_result"
    }
   ],
   "source": [
    "make_caption(\"My girlfriend brought me a new computer, happy\")"
   ]
  },
  {
   "cell_type": "code",
   "execution_count": 42,
   "id": "aa2346f0-729b-40ed-a60d-81f01f1efeaf",
   "metadata": {},
   "outputs": [
    {
     "data": {
      "text/plain": [
       "'I DO NOT ALWAYS TAKE WIRED WE BUT WHEN I DO I HOMEWORK DOWN'"
      ]
     },
     "execution_count": 42,
     "metadata": {},
     "output_type": "execute_result"
    }
   ],
   "source": [
    "make_caption(\"It is so wired that we need to do homework\")"
   ]
  },
  {
   "cell_type": "code",
   "execution_count": 43,
   "id": "67d92745-3b46-4c0f-99b0-3db8fef81d67",
   "metadata": {},
   "outputs": [
    {
     "data": {
      "text/plain": [
       "'PATIENT BEAR LIKE HAD BEEF DINNER WORK'"
      ]
     },
     "execution_count": 43,
     "metadata": {},
     "output_type": "execute_result"
    }
   ],
   "source": [
    "make_caption(\"Had beef for the dinner\")"
   ]
  },
  {
   "cell_type": "code",
   "execution_count": 44,
   "id": "6a540ced-1978-438b-a865-0b203f715028",
   "metadata": {},
   "outputs": [
    {
     "data": {
      "text/plain": [
       "'PATIENT BEAR IS WAITING FOR HIS NOW'"
      ]
     },
     "execution_count": 44,
     "metadata": {},
     "output_type": "execute_result"
    }
   ],
   "source": [
    "make_caption(\"I do not know what to do now\")"
   ]
  },
  {
   "cell_type": "code",
   "execution_count": 45,
   "id": "c7ee943b-0f48-4bd8-9e00-933c39065b27",
   "metadata": {},
   "outputs": [
    {
     "data": {
      "text/plain": [
       "'FEEL WANNA BECAUSE HANG OUT TONIGHT'"
      ]
     },
     "execution_count": 45,
     "metadata": {},
     "output_type": "execute_result"
    }
   ],
   "source": [
    "make_caption(\"Wanna hang out tonight?\")"
   ]
  },
  {
   "cell_type": "code",
   "execution_count": null,
   "id": "4296e8f3-58e5-4f13-9d78-20dca93a03c2",
   "metadata": {},
   "outputs": [],
   "source": []
  }
 ],
 "metadata": {
  "kernelspec": {
   "display_name": "Python 3",
   "language": "python",
   "name": "python3"
  },
  "language_info": {
   "codemirror_mode": {
    "name": "ipython",
    "version": 3
   },
   "file_extension": ".py",
   "mimetype": "text/x-python",
   "name": "python",
   "nbconvert_exporter": "python",
   "pygments_lexer": "ipython3",
   "version": "3.6.13"
  }
 },
 "nbformat": 4,
 "nbformat_minor": 5
}
